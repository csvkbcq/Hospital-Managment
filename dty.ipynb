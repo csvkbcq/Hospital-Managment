{
  "nbformat": 4,
  "nbformat_minor": 0,
  "metadata": {
    "colab": {
      "provenance": [],
      "private_outputs": true,
      "authorship_tag": "ABX9TyNWDu6MTn/HErRh+u6N/We7",
      "include_colab_link": true
    },
    "kernelspec": {
      "name": "python3",
      "display_name": "Python 3"
    },
    "language_info": {
      "name": "python"
    },
    "gpuClass": "standard"
  },
  "cells": [
    {
      "cell_type": "markdown",
      "metadata": {
        "id": "view-in-github",
        "colab_type": "text"
      },
      "source": [
        "<a href=\"https://colab.research.google.com/github/csvkbcq/Hospital-Managment/blob/main/dty.ipynb\" target=\"_parent\"><img src=\"https://colab.research.google.com/assets/colab-badge.svg\" alt=\"Open In Colab\"/></a>"
      ]
    },
    {
      "cell_type": "code",
      "execution_count": null,
      "metadata": {
        "id": "g1XS8n-B76SR"
      },
      "outputs": [],
      "source": [
        "print(\"hello world\")\n",
        "lst=[1,2,3]\n",
        "print(lst)\n",
        "print(type(lst))\n",
        "lst.append([4,5,6])\n",
        "lst.extend([6,7,8])\n",
        "lst.insert(8,9)\n",
        "print(lst.pop(1))\n",
        "print(lst)\n",
        "lst=tuple(lst)\n",
        "print(lst)\n",
        "print(type(lst))\n",
        "print(lst)\n",
        "for v in lst:\n",
        "  print(v)\n",
        "#dictionary\n",
        "s={}\n",
        "print(type(s))\n",
        "#set\n",
        "d={1,2,3}\n",
        "print(type(d))\n",
        "dict={\"prajwal\":'3',\"nithin\":7.5}\n",
        "print(dict)\n",
        "print(type(dict))\n",
        "for i in dict.keys():\n",
        "  print(i)\n",
        "for i in dict.values():\n",
        "  print(i)\n",
        "for i in dict.items():\n",
        "  print(i)\n",
        "tup=(1,2,3)\n",
        "print(tup)\n",
        "s='MeThe'\n",
        "print(s)\n",
        "print(type(s))\n",
        "S=1,2,3\n",
        "print(type(S))"
      ]
    },
    {
      "cell_type": "code",
      "source": [],
      "metadata": {
        "id": "xqV7sti1AYAh"
      },
      "execution_count": null,
      "outputs": []
    }
  ]
}